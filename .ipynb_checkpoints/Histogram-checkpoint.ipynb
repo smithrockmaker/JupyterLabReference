{
 "cells": [
  {
   "cell_type": "markdown",
   "metadata": {},
   "source": [
    "# Creating Histograms and Bar Charts in Notebook\n",
    "\n",
    "What follows are some basic histograms and bar charts. Be sure you know the difference. This is **NOT** an exhaustive exploration of what is possible but merely some tools to make it easier for you to explore what this tool tells us about data.\n",
    "\n",
    "### Some References:\n",
    "\n",
    "[Histograms](https://pythonspot.com/matplotlib-histogram/)  \n",
    "[Bar Charts](https://pythonspot.com/matplotlib-bar-chart/)  \n",
    "[Statistical Normal Distributions](https://docs.scipy.org/doc/scipy/reference/generated/scipy.stats.norm.html) "
   ]
  },
  {
   "cell_type": "markdown",
   "metadata": {},
   "source": [
    "## Dependencies\n",
    "\n",
    "This is where we load in the various libraries of python tools that are needed for the particular work we are undertaking.  \n",
    "  \n",
    "```numpy``` is a numerical tools library - often imported as np. ```numpy``` also contains the statistical tools that we will use in this lab. There are other libraries dedicated to statistical tools but 'numpy' has everything we need.  \n",
    "```matplotlib```is a 'MATLAB like' library. \n",
    "```matplotlib.pyplot``` is often imported as ```plt``` to make it easier to use. ```matplotlib``` has the plotting tools that we need for this lab.  \n",
    "\n",
    "The following code cell will need to be run first before any other code cells."
   ]
  },
  {
   "cell_type": "code",
   "execution_count": 1,
   "metadata": {},
   "outputs": [],
   "source": [
    "import numpy as np\n",
    "import matplotlib.mlab as mlab\n",
    "import matplotlib.pyplot as plt\n"
   ]
  },
  {
   "cell_type": "markdown",
   "metadata": {},
   "source": [
    "## Basic Histogram\n",
    "\n",
    "From a structural point of view the plt.hist command creates the histogram which is displayed using the plt.show() command. As the plt.hist command generates the plot it also returns three bits of information - the heights of each bin (array), the edges of each bin (array), and the patche objects that are the bars that are plotted.  \n",
    "\n",
    "alpha is one of many 'patch' properties -- specifically the density of the color\n",
    "\n",
    "[matplotlib.pyplot.hist](https://matplotlib.org/3.1.1/api/_as_gen/matplotlib.pyplot.hist.html)  \n",
    "[patch properties](https://matplotlib.org/api/_as_gen/matplotlib.patches.Patch.html#matplotlib.patches.Patch.set_alpha)"
   ]
  },
  {
   "cell_type": "markdown",
   "metadata": {},
   "source": [
    "## Histogram Styles\n",
    "\n",
    "histtype is an argument that you can pass to 'plt.hist' that defines the style of histogram. The default type is \"bar\" which gives me what you would usually expect if there is a single data list. If I pass multiple lists as in this example then the bars of the histogram for each data set are plotted side by side. **NB:** This creates a small issue that there are gaps between the sets of bars that imply the absence of data which is not true.\n",
    "\n",
    "The other options for 'histtype' are \"barstacked\", \"step\", and \"stepfilled\". The \"stepfilled\" style solves some of the consideration discussed above."
   ]
  },
  {
   "cell_type": "code",
   "execution_count": 10,
   "metadata": {},
   "outputs": [
    {
     "data": {
      "image/png": "[encoded data removed]",
      "text/plain": [
       "<Figure size 432x288 with 1 Axes>"
      ]
     },
     "metadata": {
      "needs_background": "light"
     },
     "output_type": "display_data"
    }
   ],
   "source": [
    "x1 = [21,22,23,4,5,6,77,8,9,10,31,32,33,34,35,36,37,18,49,50,100]\n",
    "x2 = [41,52,43,54,65,56,67,58,49,50,61,72,73,84,85,76,67,98,69,50,100]\n",
    "num_bins = 20\n",
    "fullrange = [20,100]\n",
    "height, bins, patches = plt.hist([x1,x2], num_bins, fullrange, histtype = \"barstacked\", color=[\"blue\",\"red\"], alpha= .6)\n",
    "plt.show()"
   ]
  },
  {
   "cell_type": "code",
   "execution_count": 13,
   "metadata": {},
   "outputs": [
    {
     "data": {
      "image/png": "[encoded data removed]",
      "text/plain": [
       "<Figure size 432x288 with 1 Axes>"
      ]
     },
     "metadata": {
      "needs_background": "light"
     },
     "output_type": "display_data"
    }
   ],
   "source": [
    "num_bins = 10\n",
    "plt.hist([x1,x2], num_bins, fullrange, histtype = \"bar\", color=[\"blue\",\"red\"], alpha= .6)\n",
    "plt.show()"
   ]
  },
  {
   "cell_type": "code",
   "execution_count": 16,
   "metadata": {},
   "outputs": [
    {
     "data": {
      "image/png": "[encoded data removed]",
      "text/plain": [
       "<Figure size 432x288 with 1 Axes>"
      ]
     },
     "metadata": {
      "needs_background": "light"
     },
     "output_type": "display_data"
    }
   ],
   "source": [
    "num_bins = 10\n",
    "plt.hist([x1,x2], num_bins, fullrange, histtype = \"step\", color=[\"blue\",\"red\"], alpha= .6)\n",
    "plt.show()"
   ]
  },
  {
   "cell_type": "code",
   "execution_count": 17,
   "metadata": {},
   "outputs": [
    {
     "data": {
      "image/png": "[encoded data removed]",
      "text/plain": [
       "<Figure size 432x288 with 1 Axes>"
      ]
     },
     "metadata": {
      "needs_background": "light"
     },
     "output_type": "display_data"
    }
   ],
   "source": [
    "num_bins = 10\n",
    "plt.hist([x1,x2], num_bins, fullrange, histtype = \"stepfilled\", color=[\"blue\",\"red\"], alpha= .6)\n",
    "plt.show()"
   ]
  },
  {
   "cell_type": "code",
   "execution_count": 15,
   "metadata": {},
   "outputs": [
    {
     "name": "stdout",
     "output_type": "stream",
     "text": [
      "Data set 1 Mean 30.476190476190474\n",
      "Data set 1 Median 31.0\n",
      "Data set 1 Std Dev 23.447243817352724\n"
     ]
    }
   ],
   "source": [
    "x1mean = np.mean(x1)\n",
    "x1median = np.median(x1)\n",
    "x1stddev = np.std(x1)\n",
    "print(\"Data set 1 Mean\",x1mean)\n",
    "print(\"Data set 1 Median\",x1median)\n",
    "print(\"Data set 1 Std Dev\",x1stddev)\n",
    "#print(\"Data set 1 Mean\",x1mean)\n",
    "#print(\"Data set 1 Mean\",x1mean)"
   ]
  },
  {
   "cell_type": "code",
   "execution_count": 36,
   "metadata": {},
   "outputs": [
    {
     "name": "stdout",
     "output_type": "stream",
     "text": [
      "height of bins:  [3. 0. 1. 4. 2. 0. 0. 2. 0. 0. 0. 0. 0. 0. 1. 0. 0. 0. 0. 1.]\n",
      "bin edges:  [ 20.  24.  28.  32.  36.  40.  44.  48.  52.  56.  60.  64.  68.  72.\n",
      "  76.  80.  84.  88.  92.  96. 100.]\n",
      "patches:  <a list of 20 Patch objects>\n"
     ]
    }
   ],
   "source": [
    "print('height of bins: ', height)\n",
    "print('bin edges: ', bins)\n",
    "print('patches: ', patches)"
   ]
  },
  {
   "cell_type": "markdown",
   "metadata": {},
   "source": [
    "## Bar Charts\n",
    "\n",
    "The following is an example of a bar chart. Note that the horizontal axis has no continuous interpretation."
   ]
  },
  {
   "cell_type": "code",
   "execution_count": 37,
   "metadata": {},
   "outputs": [
    {
     "data": {
      "image/png": "[encoded data removed]",
      "text/plain": [
       "<Figure size 432x288 with 1 Axes>"
      ]
     },
     "metadata": {
      "needs_background": "light"
     },
     "output_type": "display_data"
    }
   ],
   "source": [
    "# data to plot\n",
    "n_groups = 4\n",
    "means_frank = (90, 55, 40, 65)\n",
    "means_guido = (85, 62, 54, 20)\n",
    "\n",
    "# create plot\n",
    "fig, ax = plt.subplots()\n",
    "index = np.arange(n_groups)\n",
    "bar_width = 0.35\n",
    "opacity = 0.8\n",
    "\n",
    "rects1 = plt.bar(index, means_frank, bar_width,\n",
    "alpha=opacity,\n",
    "color='b',\n",
    "label='Frank')\n",
    "\n",
    "rects2 = plt.bar(index + bar_width, means_guido, bar_width,\n",
    "alpha=opacity,\n",
    "color='g',\n",
    "label='Guido')\n",
    "\n",
    "plt.xlabel('Person')\n",
    "plt.ylabel('Scores')\n",
    "plt.title('Scores by person')\n",
    "plt.xticks(index + bar_width, ('A', 'B', 'C', 'D'))\n",
    "plt.legend()\n",
    "\n",
    "plt.tight_layout()\n",
    "plt.show()"
   ]
  }
 ],
 "metadata": {
  "kernelspec": {
   "display_name": "Python 3",
   "language": "python",
   "name": "python3"
  },
  "language_info": {
   "codemirror_mode": {
    "name": "ipython",
    "version": 3
   },
   "file_extension": ".py",
   "mimetype": "text/x-python",
   "name": "python",
   "nbconvert_exporter": "python",
   "pygments_lexer": "ipython3",
   "version": "3.7.4"
  }
 },
 "nbformat": 4,
 "nbformat_minor": 4
}
