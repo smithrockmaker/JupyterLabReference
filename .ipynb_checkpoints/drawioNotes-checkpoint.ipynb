{
 "cells": [
  {
   "cell_type": "markdown",
   "metadata": {},
   "source": [
    "## Notes for using drawio extension with Jupyterlab\n",
    "### 25/1/2020\n",
    "\n",
    "It definitely seems handy to be able to create quick drawings inside Jupyterlab (a feature of Word and other editors that we have come to expect). Working in the drawio extension seems pretty standard with typical formatting panels etc. The problem arises when I go to save or export the file. If I try to save or export from the file menu **within** the extension I get this error.\n",
    "\n",
    "_xsrf argument missing from post\n",
    "\n",
    "This [thread](https://stackoverflow.com/questions/55014094/jupyter-notebook-not-saving-xsrf-argument-missing-from-post/59451811#59451811) is the one most commonly referenced in the search for a solution but I haven't been able to resolve the problem using this as a model. (seems very likely to be an operator error - me)\n",
    "\n",
    "Here's what I eventually found that **does** work for me.\n",
    "\n",
    "Use the launcher to open a drawio file. Using the file menu for Jupyterlab (**NOT** the file menu in the extension) I use the \"Save Diagram As\" option. This allows me to rename the file and save it as a ```.dio``` file. When I go to save the file to keep it current I use the \"Save Diagram\" option.\n",
    "\n",
    "When I want to create an embeddable image for my notebook I then use the \"Export Diagram as svg\" to create an image file that I can embed in the notebook. Here is an example .dio file that lives locally in this repo.\n",
    "\n",
    "[ExampleFreebody.dio](ExampleFreebody.dio)\n",
    "\n",
    "The image is embedded in the usual way in the notebook. I'm still working to figure out how to control the alignment of this image in markdown.\n",
    "\n",
    "![Example Freebody](images/ExampleFreebody.svg \"example\")\n",
    "   \n",
    "\n",
    "This is a very helpful [markdown cheatsheat](https://assemble.io/docs/Cheatsheet-Markdown.html#images) which has lots of useful stuff but not the alignment solution."
   ]
  },
  {
   "cell_type": "code",
   "execution_count": null,
   "metadata": {},
   "outputs": [],
   "source": []
  }
 ],
 "metadata": {
  "kernelspec": {
   "display_name": "Python 3",
   "language": "python",
   "name": "python3"
  },
  "language_info": {
   "codemirror_mode": {
    "name": "ipython",
    "version": 3
   },
   "file_extension": ".py",
   "mimetype": "text/x-python",
   "name": "python",
   "nbconvert_exporter": "python",
   "pygments_lexer": "ipython3",
   "version": "3.7.4"
  }
 },
 "nbformat": 4,
 "nbformat_minor": 4
}
