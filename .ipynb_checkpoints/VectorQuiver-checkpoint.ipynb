{
 "cells": [
  {
   "cell_type": "markdown",
   "metadata": {},
   "source": [
    "## Vector Plots in Physics\n",
    "\n",
    "Seems like this should be pretty straight forward but who knows....."
   ]
  },
  {
   "cell_type": "markdown",
   "metadata": {},
   "source": [
    "### Dependencies\n",
    "\n",
    "The usual..."
   ]
  },
  {
   "cell_type": "code",
   "execution_count": 12,
   "metadata": {},
   "outputs": [],
   "source": [
    "import numpy as np\n",
    "import matplotlib.pyplot as plt\n"
   ]
  },
  {
   "cell_type": "markdown",
   "metadata": {},
   "source": [
    "### Example\n",
    "\n",
    "Once you know what the call for a quiver plot expects it seems like it should be pretty direct....\n",
    "[quiver documentation](https://matplotlib.org/api/_as_gen/matplotlib.axes.Axes.quiver.html)\n",
    "\n",
    "```ax.quiver(0,0,1,1, units = 'xy', scale = 1)```  \n",
    "In the previous expression the first pair of arguments is the origin of the vector. The next two are the x and y components repectively.  Then there are the usual \\**kwargs options for color and units etc.  \n",
    "\n",
    "```ax.quiver((0,1), (0,0), (1,0), (1,2.5), units = 'xy', scale = 1)```  \n",
    "In this expression the same system applies but two vectors are being plotted. The first argument is the x value of the origin for the first vector and the x value of the origin for the second vector. The arguments to the quiver call have the same meaning but they can be tuples that quiver interprets sequentially."
   ]
  },
  {
   "cell_type": "code",
   "execution_count": 2,
   "metadata": {},
   "outputs": [
    {
     "data": {
      "image/png": "[encoded data removed]",
      "text/plain": [
       "<Figure size 432x288 with 1 Axes>"
      ]
     },
     "metadata": {
      "needs_background": "light"
     },
     "output_type": "display_data"
    }
   ],
   "source": [
    "fig, ax = plt.subplots()\n",
    "#fig = plt.figure()\n",
    "#ax = fig.add_subplot()\n",
    "#ax.quiver(0,0,2.4,-3.1,\n",
    "#          color = \"green\", \n",
    "#          units = 'xy', \n",
    "#          scale = 1, \n",
    "#          width = .1)\n",
    "ax.quiver((0,1), (0,0), (1,0), (1,2.3), color = (\"red\",\"green\"),units = 'xy', scale = 1)\n",
    "#ax.quiver((0,0), (-2,-3), units = 'xy', scale = 1)\n",
    "plt.axis('equal')\n",
    "plt.xticks(range(-5,6))\n",
    "plt.yticks(range(-5,6))\n",
    "plt.grid()\n",
    "plt.show()"
   ]
  },
  {
   "cell_type": "markdown",
   "metadata": {},
   "source": [
    "### Components of a vector\n",
    "\n",
    "Let's see if this works..."
   ]
  },
  {
   "cell_type": "code",
   "execution_count": 22,
   "metadata": {},
   "outputs": [
    {
     "data": {
      "image/png": "[encoded data removed]",
      "text/plain": [
       "<Figure size 432x288 with 1 Axes>"
      ]
     },
     "metadata": {
      "needs_background": "light"
     },
     "output_type": "display_data"
    }
   ],
   "source": [
    "# vector\n",
    "vectorcomp = [2.4, 3.3]\n",
    "vectorlocate = [0.,0.]\n",
    "\n",
    "# color choices and font size\n",
    "colorcomp = \"red\"\n",
    "colorresult = \"green\"\n",
    "plt.rcParams.update({'font.size': 16})\n",
    "\n",
    "# plot figure\n",
    "fig1, ax1 = plt.subplots()\n",
    "ax1.quiver((vectorlocate[0],vectorcomp[0],vectorlocate[0]),\n",
    "          (vectorlocate[1],vectorlocate[1],vectorlocate[1]),\n",
    "          (vectorcomp[0], 0, vectorcomp[0]),\n",
    "          (0.,vectorcomp[1],vectorcomp[1]),\n",
    "          color = (colorcomp,colorcomp,colorresult), \n",
    "          units = 'xy', \n",
    "          scale = 1, \n",
    "          width = .1)\n",
    "\n",
    "# locate labels\n",
    "offset = .5 # this will need to scale depending on problem\n",
    "xcomp_xlabel = (vectorcomp[0] - vectorlocate[0])/2\n",
    "xcomp_ylabel = vectorlocate[0]- offset\n",
    "ycomp_xlabel = vectorcomp[0] + offset\n",
    "ycomp_ylabel = (vectorcomp[1] - vectorlocate[1])/2\n",
    "result_xlabel = xcomp_xlabel - offset\n",
    "result_ylabel = ycomp_ylabel + offset\n",
    "\n",
    "plt.text(xcomp_xlabel,xcomp_ylabel, \"Ax\", color = colorcomp)\n",
    "plt.text(ycomp_xlabel, ycomp_ylabel, \"Ay\", color = colorcomp)\n",
    "plt.text(result_xlabel,result_ylabel, \"A\", color = colorresult)\n",
    "\n",
    "plt.axis('equal')\n",
    "plt.xlim(-3,6)\n",
    "plt.ylim(-3,6)\n",
    "#plt.xticks(range(-5,6))\n",
    "#plt.yticks(range(-5,6))\n",
    "plt.grid()\n",
    "plt.show()"
   ]
  },
  {
   "cell_type": "code",
   "execution_count": null,
   "metadata": {},
   "outputs": [],
   "source": []
  },
  {
   "cell_type": "code",
   "execution_count": null,
   "metadata": {},
   "outputs": [],
   "source": []
  },
  {
   "cell_type": "code",
   "execution_count": null,
   "metadata": {},
   "outputs": [],
   "source": []
  }
 ],
 "metadata": {
  "kernelspec": {
   "display_name": "Python 3",
   "language": "python",
   "name": "python3"
  },
  "language_info": {
   "codemirror_mode": {
    "name": "ipython",
    "version": 3
   },
   "file_extension": ".py",
   "mimetype": "text/x-python",
   "name": "python",
   "nbconvert_exporter": "python",
   "pygments_lexer": "ipython3",
   "version": "3.7.4"
  }
 },
 "nbformat": 4,
 "nbformat_minor": 4
}
