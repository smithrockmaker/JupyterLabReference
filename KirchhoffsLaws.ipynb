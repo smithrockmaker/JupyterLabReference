{
 "cells": [
  {
   "cell_type": "markdown",
   "metadata": {},
   "source": [
    "### Kirchhoff's Laws \n",
    ".\n",
    "\n",
    ".\n",
    "\n",
    "\n",
    "$ \\huge \\sum {\\Delta V}_{loop} = 0$\n",
    "\n",
    ".\n",
    "\n",
    ".\n",
    "\n",
    "\n",
    "$ \\huge \\sum {I}_{junction} = 0$\n",
    "\n",
    ".\n",
    "\n",
    ".\n",
    "\n",
    "$ \\huge \\Delta V = I * R$ $\\huge or$ $\\huge I = \\frac{\\Delta V}{R}$ \n",
    "\n",
    ".\n",
    "\n",
    "\n",
    ".\n",
    "\n"
   ]
  },
  {
   "cell_type": "code",
   "execution_count": null,
   "metadata": {},
   "outputs": [],
   "source": []
  }
 ],
 "metadata": {
  "kernelspec": {
   "display_name": "Python 3",
   "language": "python",
   "name": "python3"
  },
  "language_info": {
   "codemirror_mode": {
    "name": "ipython",
    "version": 3
   },
   "file_extension": ".py",
   "mimetype": "text/x-python",
   "name": "python",
   "nbconvert_exporter": "python",
   "pygments_lexer": "ipython3",
   "version": "3.7.7"
  }
 },
 "nbformat": 4,
 "nbformat_minor": 4
}
