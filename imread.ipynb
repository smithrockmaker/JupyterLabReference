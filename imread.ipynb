{
 "cells": [
  {
   "cell_type": "markdown",
   "metadata": {},
   "source": [
    "## Reading Images w/ imread (.png,.jpg, etc)\n",
    "\n",
    "I keep running into circumstances in which it would be really handy to present an image under a plot to discuss slopes or other data features in the image. Not ready to worry about doing this with video yet but it's clearly a future question."
   ]
  },
  {
   "cell_type": "markdown",
   "metadata": {},
   "source": [
    "### References\n",
    "\n",
    "Here are the references that I found to help this along the way. Initial efforts have been unsuccessful:)\n",
    "\n",
    "[matplotlib.pyplot.imread](https://matplotlib.org/3.1.1/api/_as_gen/matplotlib.pyplot.imread.html)\n",
    "\n",
    "[stackoverflow discussion](https://stackoverflow.com/questions/34458251/plot-over-an-image-background-in-python)\n",
    "\n",
    "[matplotlib example](https://matplotlib.org/gallery/images_contours_and_fields/image_demo.html)"
   ]
  },
  {
   "cell_type": "code",
   "execution_count": 1,
   "metadata": {},
   "outputs": [],
   "source": [
    "import numpy as np\n",
    "import matplotlib.pyplot as plt"
   ]
  },
  {
   "cell_type": "markdown",
   "metadata": {},
   "source": [
    "#### 8: Wind Power Installed\n",
    "\n",
    "As is the way of things for me in Jupyter notebooks this problem generates a need to be able to make a plot over an image. Sheesh -- this game never stops! Let's see what happens...\n",
    "\n",
    "Apparently when I was trying to do this on my office Windows machine the image wasn't being recognized as a .jpg which led to read errors. Now it seems to work just fine...whew!\n"
   ]
  },
  {
   "cell_type": "code",
   "execution_count": 2,
   "metadata": {},
   "outputs": [
    {
     "ename": "FileNotFoundError",
     "evalue": "[Errno 2] No such file or directory: 'images/InstalledWind.jpg'",
     "output_type": "error",
     "traceback": [
      "\u001b[0;31m---------------------------------------------------------------------------\u001b[0m",
      "\u001b[0;31mFileNotFoundError\u001b[0m                         Traceback (most recent call last)",
      "\u001b[0;32m<ipython-input-2-b62396f67c6a>\u001b[0m in \u001b[0;36m<module>\u001b[0;34m\u001b[0m\n\u001b[0;32m----> 1\u001b[0;31m \u001b[0mimg\u001b[0m \u001b[0;34m=\u001b[0m \u001b[0mplt\u001b[0m\u001b[0;34m.\u001b[0m\u001b[0mimread\u001b[0m\u001b[0;34m(\u001b[0m\u001b[0;34m'images/InstalledWind.jpg'\u001b[0m\u001b[0;34m)\u001b[0m\u001b[0;34m\u001b[0m\u001b[0;34m\u001b[0m\u001b[0m\n\u001b[0m\u001b[1;32m      2\u001b[0m \u001b[0mfig\u001b[0m\u001b[0;34m,\u001b[0m \u001b[0max\u001b[0m \u001b[0;34m=\u001b[0m \u001b[0mplt\u001b[0m\u001b[0;34m.\u001b[0m\u001b[0msubplots\u001b[0m\u001b[0;34m(\u001b[0m\u001b[0;34m)\u001b[0m\u001b[0;34m\u001b[0m\u001b[0;34m\u001b[0m\u001b[0m\n\u001b[1;32m      3\u001b[0m \u001b[0mfig\u001b[0m\u001b[0;34m.\u001b[0m\u001b[0mset_size_inches\u001b[0m\u001b[0;34m(\u001b[0m\u001b[0;36m9\u001b[0m\u001b[0;34m,\u001b[0m \u001b[0;36m6\u001b[0m\u001b[0;34m)\u001b[0m\u001b[0;34m\u001b[0m\u001b[0;34m\u001b[0m\u001b[0m\n\u001b[1;32m      4\u001b[0m \u001b[0max\u001b[0m\u001b[0;34m.\u001b[0m\u001b[0mimshow\u001b[0m\u001b[0;34m(\u001b[0m\u001b[0mimg\u001b[0m\u001b[0;34m)\u001b[0m\u001b[0;34m\u001b[0m\u001b[0;34m\u001b[0m\u001b[0m\n",
      "\u001b[0;32m~/anaconda3/lib/python3.7/site-packages/matplotlib/pyplot.py\u001b[0m in \u001b[0;36mimread\u001b[0;34m(fname, format)\u001b[0m\n\u001b[1;32m   2133\u001b[0m \u001b[0;34m@\u001b[0m\u001b[0mdocstring\u001b[0m\u001b[0;34m.\u001b[0m\u001b[0mcopy\u001b[0m\u001b[0;34m(\u001b[0m\u001b[0mmatplotlib\u001b[0m\u001b[0;34m.\u001b[0m\u001b[0mimage\u001b[0m\u001b[0;34m.\u001b[0m\u001b[0mimread\u001b[0m\u001b[0;34m)\u001b[0m\u001b[0;34m\u001b[0m\u001b[0;34m\u001b[0m\u001b[0m\n\u001b[1;32m   2134\u001b[0m \u001b[0;32mdef\u001b[0m \u001b[0mimread\u001b[0m\u001b[0;34m(\u001b[0m\u001b[0mfname\u001b[0m\u001b[0;34m,\u001b[0m \u001b[0mformat\u001b[0m\u001b[0;34m=\u001b[0m\u001b[0;32mNone\u001b[0m\u001b[0;34m)\u001b[0m\u001b[0;34m:\u001b[0m\u001b[0;34m\u001b[0m\u001b[0;34m\u001b[0m\u001b[0m\n\u001b[0;32m-> 2135\u001b[0;31m     \u001b[0;32mreturn\u001b[0m \u001b[0mmatplotlib\u001b[0m\u001b[0;34m.\u001b[0m\u001b[0mimage\u001b[0m\u001b[0;34m.\u001b[0m\u001b[0mimread\u001b[0m\u001b[0;34m(\u001b[0m\u001b[0mfname\u001b[0m\u001b[0;34m,\u001b[0m \u001b[0mformat\u001b[0m\u001b[0;34m)\u001b[0m\u001b[0;34m\u001b[0m\u001b[0;34m\u001b[0m\u001b[0m\n\u001b[0m\u001b[1;32m   2136\u001b[0m \u001b[0;34m\u001b[0m\u001b[0m\n\u001b[1;32m   2137\u001b[0m \u001b[0;34m\u001b[0m\u001b[0m\n",
      "\u001b[0;32m~/anaconda3/lib/python3.7/site-packages/matplotlib/image.py\u001b[0m in \u001b[0;36mimread\u001b[0;34m(fname, format)\u001b[0m\n\u001b[1;32m   1415\u001b[0m                              \u001b[0;34m'with Pillow installed matplotlib can handle '\u001b[0m\u001b[0;34m\u001b[0m\u001b[0;34m\u001b[0m\u001b[0m\n\u001b[1;32m   1416\u001b[0m                              'more images' % list(handlers))\n\u001b[0;32m-> 1417\u001b[0;31m         \u001b[0;32mwith\u001b[0m \u001b[0mImage\u001b[0m\u001b[0;34m.\u001b[0m\u001b[0mopen\u001b[0m\u001b[0;34m(\u001b[0m\u001b[0mfname\u001b[0m\u001b[0;34m)\u001b[0m \u001b[0;32mas\u001b[0m \u001b[0mimage\u001b[0m\u001b[0;34m:\u001b[0m\u001b[0;34m\u001b[0m\u001b[0;34m\u001b[0m\u001b[0m\n\u001b[0m\u001b[1;32m   1418\u001b[0m             \u001b[0;32mreturn\u001b[0m \u001b[0mpil_to_array\u001b[0m\u001b[0;34m(\u001b[0m\u001b[0mimage\u001b[0m\u001b[0;34m)\u001b[0m\u001b[0;34m\u001b[0m\u001b[0;34m\u001b[0m\u001b[0m\n\u001b[1;32m   1419\u001b[0m \u001b[0;34m\u001b[0m\u001b[0m\n",
      "\u001b[0;32m~/anaconda3/lib/python3.7/site-packages/PIL/Image.py\u001b[0m in \u001b[0;36mopen\u001b[0;34m(fp, mode)\u001b[0m\n\u001b[1;32m   2764\u001b[0m \u001b[0;34m\u001b[0m\u001b[0m\n\u001b[1;32m   2765\u001b[0m     \u001b[0;32mif\u001b[0m \u001b[0mfilename\u001b[0m\u001b[0;34m:\u001b[0m\u001b[0;34m\u001b[0m\u001b[0;34m\u001b[0m\u001b[0m\n\u001b[0;32m-> 2766\u001b[0;31m         \u001b[0mfp\u001b[0m \u001b[0;34m=\u001b[0m \u001b[0mbuiltins\u001b[0m\u001b[0;34m.\u001b[0m\u001b[0mopen\u001b[0m\u001b[0;34m(\u001b[0m\u001b[0mfilename\u001b[0m\u001b[0;34m,\u001b[0m \u001b[0;34m\"rb\"\u001b[0m\u001b[0;34m)\u001b[0m\u001b[0;34m\u001b[0m\u001b[0;34m\u001b[0m\u001b[0m\n\u001b[0m\u001b[1;32m   2767\u001b[0m         \u001b[0mexclusive_fp\u001b[0m \u001b[0;34m=\u001b[0m \u001b[0;32mTrue\u001b[0m\u001b[0;34m\u001b[0m\u001b[0;34m\u001b[0m\u001b[0m\n\u001b[1;32m   2768\u001b[0m \u001b[0;34m\u001b[0m\u001b[0m\n",
      "\u001b[0;31mFileNotFoundError\u001b[0m: [Errno 2] No such file or directory: 'images/InstalledWind.jpg'"
     ]
    }
   ],
   "source": [
    "img = plt.imread('images/InstalledWind.jpg')\n",
    "fig, ax = plt.subplots()\n",
    "fig.set_size_inches(9, 6)\n",
    "ax.imshow(img)"
   ]
  },
  {
   "cell_type": "markdown",
   "metadata": {},
   "source": [
    "### Overlay with Line\n",
    "\n",
    "Lots to consider here. Initially I just copied the code from the stackoverflow post. All works so now the question is how to resolve two final bits. Aligning the axes of the plot with the scales on the image and then creating a line that I can easily adjust to extract a feature of the graph.\n",
    "\n",
    "#### Aligning Scales\n",
    "\n",
    "This is really just a question of whether I can determine the scales I need and then display the image so that it stays aligned. In this example I need to set the horizontal scale to years that run from about 1997 to 2019 so that the ticks drop appropriately under the bars. I'm sure this will blow up the first couple of trys but here goes.\n",
    "\n",
    "[pyplot.axis ref](https://matplotlib.org/api/_as_gen/matplotlib.pyplot.axis.html)\n",
    "\n",
    "This useful thing came up about tick marks\n",
    "[tick marks scientific](https://matplotlib.org/api/pyplot_api.html#matplotlib.pyplot.ticklabel_format)\n",
    "\n",
    "[range documentation](https://docs.python.org/2/library/functions.html#range)\n",
    "\n",
    "After being confused by this for a while it appears that when the image is resampled to fit in the display box it 'must' use a scale that is the same in each direction while my plot may well have very different scales in the sense of the meaning of each tick mark. In this example 1 tick horizontally is 1 year roughly and vertically each tick is 10,000 GW. When I try to embed these two object in the fig container the image forces the scale of the ticks to be the same in each direction. This suggests that the working solution will be to make two plot containers. One for the image and one for the plot. I think in general the two plots can share a common horizontal axis without getting screwed up. -- onwards!"
   ]
  },
  {
   "cell_type": "code",
   "execution_count": null,
   "metadata": {},
   "outputs": [],
   "source": [
    "fig, ax2 = plt.subplots()\n",
    "x = range(300)\n",
    "\n",
    "fig.set_size_inches(9, 6)\n",
    "xlow = 1997\n",
    "xhigh = 2019\n",
    "ylow = 20000\n",
    "yhigh = 20200\n",
    "ax2.set(xlim=(xlow, xhigh), ylim=(ylow, yhigh))\n",
    "ax2.imshow(img, extent=[xlow, xhigh, ylow, yhigh])\n",
    "ax2.plot(x, x, '--', linewidth=5, color='firebrick')"
   ]
  },
  {
   "cell_type": "markdown",
   "metadata": {},
   "source": [
    "### Two Plots with Shared Horizontal Axis\n",
    "\n",
    "Here goes....\n",
    "\n",
    "[twin plots matplotlib examples](https://matplotlib.org/gallery/api/two_scales.html)\n",
    "\n",
    "Because the tick labels for the y axis of the image are meaningless I shut off the labels on the ticks using ```xticks()```\n",
    "\n",
    "[xticks() documentation](https://matplotlib.org/3.1.1/api/_as_gen/matplotlib.pyplot.xticks.html)\n",
    "\n",
    "[subplots tick.params](https://matplotlib.org/3.1.1/api/_as_gen/matplotlib.axes.Axes.tick_params.html)\n",
    "\n",
    "This allows me to use the ```labelsize = \"0.\"``` to set the size of the labels on the image to 0 as a way of turning them off."
   ]
  },
  {
   "cell_type": "code",
   "execution_count": null,
   "metadata": {},
   "outputs": [],
   "source": [
    "# Set plot limits\n",
    "# xlow3, xhigh3 will be shared limits. \n",
    "# ylow3, yhigh3 set proportions for image with the x lim above\n",
    "# ylow4, yhigh4 set scale for superimposed line\n",
    "xlow3 = 1998.\n",
    "xhigh3 = 2018.5\n",
    "ylow3 = 1996\n",
    "yhigh3 = 2009\n",
    "ylow4 = -12E+3\n",
    "yhigh4 = 11E+4\n",
    "\n",
    "fig, ax3 = plt.subplots()\n",
    "\n",
    "color = 'tab:red'\n",
    "ax3.tick_params(axis='y', labelleft = False, labelright = False, left = False, right = False)\n",
    "ax3.imshow(img, extent=[xlow3, xhigh3, ylow3, yhigh3])\n",
    "\n",
    "ax4 = ax3.twinx()  # instantiate a second axes that shares the same x-axis\n",
    "\n",
    "# create the overlaid line\n",
    "fitlow = 2005.\n",
    "fithigh = 2018\n",
    "fitstep = 25\n",
    "offset = 4500.\n",
    "fitslope = 7200.\n",
    "xfit = np.linspace(fitlow,fithigh,fitstep)\n",
    "yfit = fitslope*(xfit - fitlow) + offset\n",
    "# print(xfit)\n",
    "# print(yfit)\n",
    "\n",
    "color = 'tab:blue'\n",
    "ax4.plot(xfit, yfit, '--', linewidth=5, color='firebrick')\n",
    "ax4.set(xlim=(xlow3, xhigh3), ylim=(ylow4, yhigh4))\n",
    "ax4.tick_params(axis='y',direction = \"in\", length = .1, labelleft = True, labelright = False, right = False, left = True)\n",
    "\n",
    "fig.set_size_inches(9, 6)\n",
    "#fig.tight_layout()  # otherwise the right y-label is slightly clipped\n",
    "plt.show()"
   ]
  },
  {
   "cell_type": "markdown",
   "metadata": {},
   "source": [
    "### Layering Issues\n",
    "\n",
    "In an effort to move the y axis labels from the fit line to the left side of the plot I reversed the order of the subplot calls. This turns out to layer the image on top of the line plot which is NOT helpful except that it does give a little more insight into how the subplots call is building the overall plot. **DON'T DO THIS:)**"
   ]
  },
  {
   "cell_type": "code",
   "execution_count": null,
   "metadata": {},
   "outputs": [],
   "source": [
    "# Set plot limits\n",
    "# xlow3, xhigh3 will be shared limits. \n",
    "# ylow3, yhigh3 set proportions for image with the x lim above\n",
    "# ylow4, yhigh4 set scale for superimposed line\n",
    "xlow3 = 1998.\n",
    "xhigh3 = 2018.5\n",
    "ylow3 = 1996\n",
    "yhigh3 = 2009\n",
    "ylow4 = -12E+3\n",
    "yhigh4 = 11E+4\n",
    "\n",
    "fig, ax3 = plt.subplots()\n",
    "\n",
    "# create the overlaid line\n",
    "fitlow = 2005.\n",
    "fithigh = 2018\n",
    "fitstep = 25\n",
    "offset = 4500.\n",
    "fitslope = 7200.\n",
    "xfit = np.linspace(fitlow,fithigh,fitstep)\n",
    "yfit = fitslope*(xfit - fitlow) + offset\n",
    "# print(xfit)\n",
    "# print(yfit)\n",
    "\n",
    "color = 'tab:blue'\n",
    "#ax3.set_ylabel('sin', color=color)  # we already handled the x-label with ax1\n",
    "ax3.plot(xfit, yfit, '--', linewidth=5, color='firebrick')\n",
    "ax3.set(xlim=(xlow3, xhigh3), ylim=(ylow4, yhigh4))\n",
    "ax3.tick_params(axis='y', labelleft = True, labelright = False, right = False, left = True)\n",
    "\n",
    "ax4 = ax3.twinx()  # instantiate a second axes that shares the same x-axis\n",
    "\n",
    "color = 'tab:red'\n",
    "#ax4.set_xlabel('time (s)')\n",
    "#ax4.set_ylabel('exp', color=color)\n",
    "#ax4.imshow(img, extent=[xlow3, xhigh3, ylow3, yhigh3])\n",
    "ax4.tick_params(axis='y', labelsize = \"0.\", labelright = False, right = False)\n",
    "\n",
    "fig.set_size_inches(9, 6)\n",
    "#fig.tight_layout()  # otherwise the right y-label is slightly clipped\n",
    "plt.show()"
   ]
  },
  {
   "cell_type": "markdown",
   "metadata": {},
   "source": [
    "### Just the tick's.....\n",
    "\n",
    "left and right turn on or off the ticks, labelleft and labelright turn on or off the labels on the ticks. Seems to work. In the documentation (above) I'm begining to understand the requirements of the arguments. Bool => True or False, float => a float number, and other arguments must be in single quotes. "
   ]
  },
  {
   "cell_type": "code",
   "execution_count": 3,
   "metadata": {},
   "outputs": [
    {
     "ename": "NameError",
     "evalue": "name 'img' is not defined",
     "output_type": "error",
     "traceback": [
      "\u001b[0;31m---------------------------------------------------------------------------\u001b[0m",
      "\u001b[0;31mNameError\u001b[0m                                 Traceback (most recent call last)",
      "\u001b[0;32m<ipython-input-3-634c1482f783>\u001b[0m in \u001b[0;36m<module>\u001b[0;34m\u001b[0m\n\u001b[1;32m      8\u001b[0m     \u001b[0mleft\u001b[0m \u001b[0;34m=\u001b[0m \u001b[0;32mTrue\u001b[0m\u001b[0;34m,\u001b[0m\u001b[0;34m\u001b[0m\u001b[0;34m\u001b[0m\u001b[0m\n\u001b[1;32m      9\u001b[0m     right = False)\n\u001b[0;32m---> 10\u001b[0;31m \u001b[0maxx\u001b[0m\u001b[0;34m.\u001b[0m\u001b[0mimshow\u001b[0m\u001b[0;34m(\u001b[0m\u001b[0mimg\u001b[0m\u001b[0;34m,\u001b[0m \u001b[0mextent\u001b[0m\u001b[0;34m=\u001b[0m\u001b[0;34m[\u001b[0m\u001b[0mxlow3\u001b[0m\u001b[0;34m,\u001b[0m \u001b[0mxhigh3\u001b[0m\u001b[0;34m,\u001b[0m \u001b[0mylow3\u001b[0m\u001b[0;34m,\u001b[0m \u001b[0myhigh3\u001b[0m\u001b[0;34m]\u001b[0m\u001b[0;34m)\u001b[0m\u001b[0;34m\u001b[0m\u001b[0;34m\u001b[0m\u001b[0m\n\u001b[0m\u001b[1;32m     11\u001b[0m \u001b[0;34m\u001b[0m\u001b[0m\n\u001b[1;32m     12\u001b[0m \u001b[0mfig\u001b[0m\u001b[0;34m.\u001b[0m\u001b[0mset_size_inches\u001b[0m\u001b[0;34m(\u001b[0m\u001b[0;36m9\u001b[0m\u001b[0;34m,\u001b[0m \u001b[0;36m6\u001b[0m\u001b[0;34m)\u001b[0m\u001b[0;34m\u001b[0m\u001b[0;34m\u001b[0m\u001b[0m\n",
      "\u001b[0;31mNameError\u001b[0m: name 'img' is not defined"
     ]
    },
    {
     "data": {
      "image/png": "[encoded data removed]",
      "text/plain": [
       "<Figure size 432x288 with 1 Axes>"
      ]
     },
     "metadata": {
      "needs_background": "light"
     },
     "output_type": "display_data"
    }
   ],
   "source": [
    "fig, axx = plt.subplots()\n",
    "axx.tick_params(\n",
    "    axis='y',\n",
    "    labelleft = True, \n",
    "    labelright = False,\n",
    "    direction = 'inout',\n",
    "    length = 10.,\n",
    "    left = True, \n",
    "    right = False)\n",
    "axx.imshow(img, extent=[xlow3, xhigh3, ylow3, yhigh3])\n",
    "\n",
    "fig.set_size_inches(9, 6)\n",
    "plt.show()"
   ]
  },
  {
   "cell_type": "code",
   "execution_count": null,
   "metadata": {},
   "outputs": [],
   "source": []
  },
  {
   "cell_type": "code",
   "execution_count": null,
   "metadata": {},
   "outputs": [],
   "source": []
  }
 ],
 "metadata": {
  "kernelspec": {
   "display_name": "Python 3",
   "language": "python",
   "name": "python3"
  },
  "language_info": {
   "codemirror_mode": {
    "name": "ipython",
    "version": 3
   },
   "file_extension": ".py",
   "mimetype": "text/x-python",
   "name": "python",
   "nbconvert_exporter": "python",
   "pygments_lexer": "ipython3",
   "version": "3.7.4"
  }
 },
 "nbformat": 4,
 "nbformat_minor": 4
}
